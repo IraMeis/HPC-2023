{
  "cells": [
    {
      "cell_type": "code",
      "execution_count": 33,
      "id": "07064747",
      "metadata": {
        "id": "07064747"
      },
      "outputs": [],
      "source": [
        "import numpy as np\n",
        "from numba import cuda\n",
        "import time\n",
        "import math"
      ]
    },
    {
      "cell_type": "code",
      "source": [
        "!nvidia-smi"
      ],
      "metadata": {
        "colab": {
          "base_uri": "https://localhost:8080/"
        },
        "id": "NQPvil5gycQu",
        "outputId": "724e6837-b1bf-423c-82ce-327b232274a3"
      },
      "id": "NQPvil5gycQu",
      "execution_count": 34,
      "outputs": [
        {
          "output_type": "stream",
          "name": "stdout",
          "text": [
            "Mon Oct  9 19:16:22 2023       \n",
            "+-----------------------------------------------------------------------------+\n",
            "| NVIDIA-SMI 525.105.17   Driver Version: 525.105.17   CUDA Version: 12.0     |\n",
            "|-------------------------------+----------------------+----------------------+\n",
            "| GPU  Name        Persistence-M| Bus-Id        Disp.A | Volatile Uncorr. ECC |\n",
            "| Fan  Temp  Perf  Pwr:Usage/Cap|         Memory-Usage | GPU-Util  Compute M. |\n",
            "|                               |                      |               MIG M. |\n",
            "|===============================+======================+======================|\n",
            "|   0  Tesla T4            Off  | 00000000:00:04.0 Off |                    0 |\n",
            "| N/A   51C    P0    27W /  70W |    191MiB / 15360MiB |      0%      Default |\n",
            "|                               |                      |                  N/A |\n",
            "+-------------------------------+----------------------+----------------------+\n",
            "                                                                               \n",
            "+-----------------------------------------------------------------------------+\n",
            "| Processes:                                                                  |\n",
            "|  GPU   GI   CI        PID   Type   Process name                  GPU Memory |\n",
            "|        ID   ID                                                   Usage      |\n",
            "|=============================================================================|\n",
            "+-----------------------------------------------------------------------------+\n"
          ]
        }
      ]
    },
    {
      "cell_type": "code",
      "source": [
        "!lscpu"
      ],
      "metadata": {
        "colab": {
          "base_uri": "https://localhost:8080/"
        },
        "id": "SDicWDdVBCvM",
        "outputId": "93f84497-2adc-4e43-a7f7-21d4559f3bbf"
      },
      "id": "SDicWDdVBCvM",
      "execution_count": 35,
      "outputs": [
        {
          "output_type": "stream",
          "name": "stdout",
          "text": [
            "Architecture:            x86_64\n",
            "  CPU op-mode(s):        32-bit, 64-bit\n",
            "  Address sizes:         46 bits physical, 48 bits virtual\n",
            "  Byte Order:            Little Endian\n",
            "CPU(s):                  2\n",
            "  On-line CPU(s) list:   0,1\n",
            "Vendor ID:               GenuineIntel\n",
            "  Model name:            Intel(R) Xeon(R) CPU @ 2.00GHz\n",
            "    CPU family:          6\n",
            "    Model:               85\n",
            "    Thread(s) per core:  2\n",
            "    Core(s) per socket:  1\n",
            "    Socket(s):           1\n",
            "    Stepping:            3\n",
            "    BogoMIPS:            4000.41\n",
            "    Flags:               fpu vme de pse tsc msr pae mce cx8 apic sep mtrr pge mc\n",
            "                         a cmov pat pse36 clflush mmx fxsr sse sse2 ss ht syscal\n",
            "                         l nx pdpe1gb rdtscp lm constant_tsc rep_good nopl xtopo\n",
            "                         logy nonstop_tsc cpuid tsc_known_freq pni pclmulqdq sss\n",
            "                         e3 fma cx16 pcid sse4_1 sse4_2 x2apic movbe popcnt aes \n",
            "                         xsave avx f16c rdrand hypervisor lahf_lm abm 3dnowprefe\n",
            "                         tch invpcid_single ssbd ibrs ibpb stibp fsgsbase tsc_ad\n",
            "                         just bmi1 hle avx2 smep bmi2 erms invpcid rtm mpx avx51\n",
            "                         2f avx512dq rdseed adx smap clflushopt clwb avx512cd av\n",
            "                         x512bw avx512vl xsaveopt xsavec xgetbv1 xsaves arat md_\n",
            "                         clear arch_capabilities\n",
            "Virtualization features: \n",
            "  Hypervisor vendor:     KVM\n",
            "  Virtualization type:   full\n",
            "Caches (sum of all):     \n",
            "  L1d:                   32 KiB (1 instance)\n",
            "  L1i:                   32 KiB (1 instance)\n",
            "  L2:                    1 MiB (1 instance)\n",
            "  L3:                    38.5 MiB (1 instance)\n",
            "NUMA:                    \n",
            "  NUMA node(s):          1\n",
            "  NUMA node0 CPU(s):     0,1\n",
            "Vulnerabilities:         \n",
            "  Itlb multihit:         Not affected\n",
            "  L1tf:                  Mitigation; PTE Inversion\n",
            "  Mds:                   Vulnerable; SMT Host state unknown\n",
            "  Meltdown:              Vulnerable\n",
            "  Mmio stale data:       Vulnerable\n",
            "  Retbleed:              Vulnerable\n",
            "  Spec store bypass:     Vulnerable\n",
            "  Spectre v1:            Vulnerable: __user pointer sanitization and usercopy ba\n",
            "                         rriers only; no swapgs barriers\n",
            "  Spectre v2:            Vulnerable, IBPB: disabled, STIBP: disabled, PBRSB-eIBR\n",
            "                         S: Not affected\n",
            "  Srbds:                 Not affected\n",
            "  Tsx async abort:       Vulnerable\n"
          ]
        }
      ]
    },
    {
      "cell_type": "code",
      "execution_count": 36,
      "id": "ca127ae2",
      "metadata": {
        "id": "ca127ae2"
      },
      "outputs": [],
      "source": [
        "def cpu_mul(A, B, C):\n",
        "    for i in range(C.shape[0]):\n",
        "        for j in range(C.shape[1]):\n",
        "            res = 0\n",
        "            for k in range(A.shape[1]):\n",
        "                res += A[i,k] * B[k,j]\n",
        "            C[i,j] = res\n",
        "\n",
        "@cuda.jit\n",
        "def gpu_mul(A, B, C):\n",
        "    i, j = cuda.grid(2)\n",
        "    if i < C.shape[0] and j < C.shape[1]:\n",
        "        tmp = 0\n",
        "        for k in range(A.shape[1]):\n",
        "            tmp += A[i, k] * B[k, j]\n",
        "        C[i, j] = tmp"
      ]
    },
    {
      "cell_type": "code",
      "execution_count": 37,
      "id": "b719f24c",
      "metadata": {
        "id": "b719f24c"
      },
      "outputs": [],
      "source": [
        "def compare(size: int):\n",
        "    import warnings\n",
        "    warnings.filterwarnings(\"ignore\")\n",
        "\n",
        "    # Инициализация матриц\n",
        "    mc1 = np.random.randint(0, 5, (size, size))\n",
        "    mc2 = np.random.randint(0, 5, (size, size))\n",
        "    cres = np.zeros((size, size), dtype=int)\n",
        "\n",
        "    mg1 = cuda.to_device(mc1)\n",
        "    mg2 = cuda.to_device(mc2)\n",
        "    gres = cuda.device_array((len(mc1), len(mc2)))\n",
        "\n",
        "    # Ядро\n",
        "    threadsperblock = (32, 32)\n",
        "    blockspergrid_x = int(math.ceil(mc1.shape[0] / threadsperblock[0]))\n",
        "    blockspergrid_y = int(math.ceil(mc2.shape[1] / threadsperblock[1]))\n",
        "    blockspergrid = (blockspergrid_x, blockspergrid_y)\n",
        "\n",
        "    start = time.time()\n",
        "    cpu_mul(mc1, mc2, cres)\n",
        "    tmc = time.time() - start\n",
        "    #print(f'CPU: {tmc} s')\n",
        "\n",
        "    start = time.time()\n",
        "    gpu_mul[blockspergrid, threadsperblock](mg1, mg2, gres)\n",
        "    tmg = time.time() - start\n",
        "    #print(f'GPU: {tmg} s')\n",
        "\n",
        "    return tmc, tmg"
      ]
    },
    {
      "cell_type": "code",
      "execution_count": null,
      "id": "DDPN7kwzuRGh",
      "metadata": {
        "id": "DDPN7kwzuRGh"
      },
      "outputs": [],
      "source": [
        "from matplotlib import pyplot as plt\n",
        "\n",
        "sizes = [100, 200, 400, 600, 800, 1000, 1200, 1400, 1600, 1800, 2000]\n",
        "ctimes = []\n",
        "gtimes = []\n",
        "accelerations = []\n",
        "\n",
        "for sz in sizes:\n",
        "    c, g = compare(sz)\n",
        "    ctimes.append(c)\n",
        "    gtimes.append(g)\n",
        "    accelerations.append(c / g)\n",
        "\n",
        "plt.plot(sizes, ctimes, label='CPU', color='blue')\n",
        "plt.plot(sizes, gtimes, label='GPU', color='orange')\n",
        "plt.grid(True)\n",
        "plt.legend()\n",
        "plt.xlabel(\"Dim nxn\")\n",
        "plt.ylabel(\"t, s\")\n",
        "plt.title('Time')\n",
        "plt.show()\n",
        "\n",
        "plt.plot(sizes, accelerations, color='red')\n",
        "plt.grid(True)\n",
        "plt.xlabel(\"Dim nxn\")\n",
        "plt.title('Acceleration')\n",
        "plt.show()"
      ]
    }
  ],
  "metadata": {
    "accelerator": "GPU",
    "colab": {
      "gpuType": "T4",
      "provenance": []
    },
    "kernelspec": {
      "display_name": "Python 3 (ipykernel)",
      "language": "python",
      "name": "python3"
    },
    "language_info": {
      "codemirror_mode": {
        "name": "ipython",
        "version": 3
      },
      "file_extension": ".py",
      "mimetype": "text/x-python",
      "name": "python",
      "nbconvert_exporter": "python",
      "pygments_lexer": "ipython3",
      "version": "3.9.12"
    }
  },
  "nbformat": 4,
  "nbformat_minor": 5
}