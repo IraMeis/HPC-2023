{
  "cells": [
    {
      "cell_type": "code",
      "source": [
        "!nvcc --version\n",
        "!pip install git+https://github.com/andreinechaev/nvcc4jupyter.git\n",
        "%load_ext nvcc_plugin"
      ],
      "metadata": {
        "id": "mVVo36MoDHwc",
        "colab": {
          "base_uri": "https://localhost:8080/"
        },
        "outputId": "92eb0fd4-d531-424c-84d0-86e30e8ea149"
      },
      "id": "mVVo36MoDHwc",
      "execution_count": 1,
      "outputs": [
        {
          "output_type": "stream",
          "name": "stdout",
          "text": [
            "nvcc: NVIDIA (R) Cuda compiler driver\n",
            "Copyright (c) 2005-2022 NVIDIA Corporation\n",
            "Built on Wed_Sep_21_10:33:58_PDT_2022\n",
            "Cuda compilation tools, release 11.8, V11.8.89\n",
            "Build cuda_11.8.r11.8/compiler.31833905_0\n",
            "Collecting git+https://github.com/andreinechaev/nvcc4jupyter.git\n",
            "  Cloning https://github.com/andreinechaev/nvcc4jupyter.git to /tmp/pip-req-build-6xxx6_jp\n",
            "  Running command git clone --filter=blob:none --quiet https://github.com/andreinechaev/nvcc4jupyter.git /tmp/pip-req-build-6xxx6_jp\n",
            "  Resolved https://github.com/andreinechaev/nvcc4jupyter.git to commit 0a71d56e5dce3ff1f0dd2c47c29367629262f527\n",
            "  Preparing metadata (setup.py) ... \u001b[?25l\u001b[?25hdone\n",
            "Building wheels for collected packages: NVCCPlugin\n",
            "  Building wheel for NVCCPlugin (setup.py) ... \u001b[?25l\u001b[?25hdone\n",
            "  Created wheel for NVCCPlugin: filename=NVCCPlugin-0.0.2-py3-none-any.whl size=4295 sha256=57798660d6bea4f4bd79b45b83c731dcc9e8c4d8d1b459b9622224e9b8a6458d\n",
            "  Stored in directory: /tmp/pip-ephem-wheel-cache-5d2_v88n/wheels/a8/b9/18/23f8ef71ceb0f63297dd1903aedd067e6243a68ea756d6feea\n",
            "Successfully built NVCCPlugin\n",
            "Installing collected packages: NVCCPlugin\n",
            "Successfully installed NVCCPlugin-0.0.2\n",
            "created output directory at /content/src\n",
            "Out bin /content/result.out\n"
          ]
        }
      ]
    },
    {
      "cell_type": "code",
      "source": [
        "!nvidia-smi"
      ],
      "metadata": {
        "colab": {
          "base_uri": "https://localhost:8080/"
        },
        "id": "KHUC_4DLPgS-",
        "outputId": "abeb7b11-21a6-4890-880d-b50f289bd56e"
      },
      "id": "KHUC_4DLPgS-",
      "execution_count": 2,
      "outputs": [
        {
          "output_type": "stream",
          "name": "stdout",
          "text": [
            "Tue Oct 10 19:00:45 2023       \n",
            "+-----------------------------------------------------------------------------+\n",
            "| NVIDIA-SMI 525.105.17   Driver Version: 525.105.17   CUDA Version: 12.0     |\n",
            "|-------------------------------+----------------------+----------------------+\n",
            "| GPU  Name        Persistence-M| Bus-Id        Disp.A | Volatile Uncorr. ECC |\n",
            "| Fan  Temp  Perf  Pwr:Usage/Cap|         Memory-Usage | GPU-Util  Compute M. |\n",
            "|                               |                      |               MIG M. |\n",
            "|===============================+======================+======================|\n",
            "|   0  Tesla T4            Off  | 00000000:00:04.0 Off |                    0 |\n",
            "| N/A   51C    P8    11W /  70W |      0MiB / 15360MiB |      0%      Default |\n",
            "|                               |                      |                  N/A |\n",
            "+-------------------------------+----------------------+----------------------+\n",
            "                                                                               \n",
            "+-----------------------------------------------------------------------------+\n",
            "| Processes:                                                                  |\n",
            "|  GPU   GI   CI        PID   Type   Process name                  GPU Memory |\n",
            "|        ID   ID                                                   Usage      |\n",
            "|=============================================================================|\n",
            "|  No running processes found                                                 |\n",
            "+-----------------------------------------------------------------------------+\n"
          ]
        }
      ]
    },
    {
      "cell_type": "code",
      "source": [
        "!lscpu"
      ],
      "metadata": {
        "colab": {
          "base_uri": "https://localhost:8080/"
        },
        "id": "neJokFVLPgbt",
        "outputId": "79a0ba77-5e46-48aa-ebc0-f1254251c9d4"
      },
      "id": "neJokFVLPgbt",
      "execution_count": 3,
      "outputs": [
        {
          "output_type": "stream",
          "name": "stdout",
          "text": [
            "Architecture:            x86_64\n",
            "  CPU op-mode(s):        32-bit, 64-bit\n",
            "  Address sizes:         46 bits physical, 48 bits virtual\n",
            "  Byte Order:            Little Endian\n",
            "CPU(s):                  2\n",
            "  On-line CPU(s) list:   0,1\n",
            "Vendor ID:               GenuineIntel\n",
            "  Model name:            Intel(R) Xeon(R) CPU @ 2.00GHz\n",
            "    CPU family:          6\n",
            "    Model:               85\n",
            "    Thread(s) per core:  2\n",
            "    Core(s) per socket:  1\n",
            "    Socket(s):           1\n",
            "    Stepping:            3\n",
            "    BogoMIPS:            4000.27\n",
            "    Flags:               fpu vme de pse tsc msr pae mce cx8 apic sep mtrr pge mc\n",
            "                         a cmov pat pse36 clflush mmx fxsr sse sse2 ss ht syscal\n",
            "                         l nx pdpe1gb rdtscp lm constant_tsc rep_good nopl xtopo\n",
            "                         logy nonstop_tsc cpuid tsc_known_freq pni pclmulqdq sss\n",
            "                         e3 fma cx16 pcid sse4_1 sse4_2 x2apic movbe popcnt aes \n",
            "                         xsave avx f16c rdrand hypervisor lahf_lm abm 3dnowprefe\n",
            "                         tch invpcid_single ssbd ibrs ibpb stibp fsgsbase tsc_ad\n",
            "                         just bmi1 hle avx2 smep bmi2 erms invpcid rtm mpx avx51\n",
            "                         2f avx512dq rdseed adx smap clflushopt clwb avx512cd av\n",
            "                         x512bw avx512vl xsaveopt xsavec xgetbv1 xsaves arat md_\n",
            "                         clear arch_capabilities\n",
            "Virtualization features: \n",
            "  Hypervisor vendor:     KVM\n",
            "  Virtualization type:   full\n",
            "Caches (sum of all):     \n",
            "  L1d:                   32 KiB (1 instance)\n",
            "  L1i:                   32 KiB (1 instance)\n",
            "  L2:                    1 MiB (1 instance)\n",
            "  L3:                    38.5 MiB (1 instance)\n",
            "NUMA:                    \n",
            "  NUMA node(s):          1\n",
            "  NUMA node0 CPU(s):     0,1\n",
            "Vulnerabilities:         \n",
            "  Itlb multihit:         Not affected\n",
            "  L1tf:                  Mitigation; PTE Inversion\n",
            "  Mds:                   Vulnerable; SMT Host state unknown\n",
            "  Meltdown:              Vulnerable\n",
            "  Mmio stale data:       Vulnerable\n",
            "  Retbleed:              Vulnerable\n",
            "  Spec store bypass:     Vulnerable\n",
            "  Spectre v1:            Vulnerable: __user pointer sanitization and usercopy ba\n",
            "                         rriers only; no swapgs barriers\n",
            "  Spectre v2:            Vulnerable, IBPB: disabled, STIBP: disabled, PBRSB-eIBR\n",
            "                         S: Not affected\n",
            "  Srbds:                 Not affected\n",
            "  Tsx async abort:       Vulnerable\n"
          ]
        }
      ]
    },
    {
      "cell_type": "code",
      "source": [
        "%%cuda --name matmul.cu\n",
        "#include <iostream>\n",
        "#include <random>\n",
        "#include \"stdio.h\"\n",
        "#include \"stdlib.h\"\n",
        "#include \"cuda.h\"\n",
        "#include \"curand.h\"\n",
        "#include <cublasXt.h>\n",
        "\n",
        "// Fill the array A(nr_rows_A, nr_cols_A) with random numbers on GPU\n",
        "void GPU_fill_rand(double *A, int nr_rows_A, int nr_cols_A) {\n",
        "    // Create a pseudo-random number generator\n",
        "    curandGenerator_t prng;\n",
        "    curandCreateGenerator(&prng, CURAND_RNG_PSEUDO_DEFAULT);\n",
        "    // Set the seed for the random number generator using the system clock\n",
        "    curandSetPseudoRandomGeneratorSeed(prng, (unsigned long long) clock());\n",
        "    // Fill the array with random numbers on the device\n",
        "    curandGenerateUniformDouble(prng, A, nr_rows_A * nr_cols_A);\n",
        "}\n",
        "\n",
        "// Multiply the arrays A and B on GPU and save the result in C\n",
        "// C(m,n) = A(m,k) * B(k,n)\n",
        "void gpu_blas_mmul(const double *A, const double *B, double *C, const int m, const int k, const int n) {\n",
        "    int lda=m,ldb=k,ldc=m;\n",
        "    const double alf = 1;\n",
        "    const double bet = 0;\n",
        "    const double *alpha = &alf;\n",
        "    const double *beta = &bet;\n",
        "    // Create a handle for CUBLAS\n",
        "    cublasHandle_t handle;\n",
        "    cublasCreate(&handle);\n",
        "    // Do the actual multiplication\n",
        "    // I switch the parameters A and B to be handled has column major\n",
        "    cublasDgemm(handle, CUBLAS_OP_N, CUBLAS_OP_N, m, n, k, alpha, B, ldb, A, lda, beta, C, ldc);\n",
        "    // Destroy the handle\n",
        "    cublasDestroy(handle);\n",
        "}\n",
        "\n",
        "void cpp_cpu_mmul(const double *A, const double *B, double *C, const int N) {\n",
        "    for (int i = 0; i < N; ++i) {\n",
        "        for (int j = 0; j < N; ++j) {\n",
        "            C[i * N + j] = 0.0;\n",
        "            for (int k = 0; k < N; ++k)\n",
        "                C[i * N + j] += A[i * N + k] * B[k * N + j];\n",
        "        }\n",
        "    }\n",
        "}\n",
        "\n",
        "double differ(double *A, double *B, const int N) {\n",
        "    double diff = 0.0;\n",
        "    for (int i = 0; i < N; ++i) {\n",
        "        for (int j = 0; j < N; ++j) {\n",
        "            diff += abs (A[i * N + j] - B[i * N + j]);\n",
        "        }\n",
        "    }\n",
        "    return diff;\n",
        "}\n",
        "\n",
        "int main(int argc, char *argv[]) {\n",
        "\n",
        "    int N = atoi(argv[1]);\n",
        "    double start, end, gpu_time, cpu_time;\n",
        "\n",
        "    // allocate 4 arrays on cpu\n",
        "    double *h_A = (double *)malloc(N * N * sizeof(double));\n",
        "    double *h_B = (double *)malloc(N * N * sizeof(double));\n",
        "    double *h_C = (double *)malloc(N * N * sizeof(double)); //mem for gpu result\n",
        "    double *cpu_C = (double *)malloc(N * N * sizeof(double)); //mem for cpu result\n",
        "\n",
        "    // allocate 3 arrays on gpu\n",
        "    double *d_A, *d_B, *d_C;\n",
        "    cudaMalloc(&d_A, N * N * sizeof(double));\n",
        "    cudaMalloc(&d_B, N * N * sizeof(double));\n",
        "    cudaMalloc(&d_C, N * N * sizeof(double));\n",
        "\n",
        "    // fill arrs on gpu with random numbers\n",
        "    GPU_fill_rand(d_A, N, N);\n",
        "    GPU_fill_rand(d_B, N, N);\n",
        "\n",
        "    // cp gpu data to cpu\n",
        "    cudaMemcpy(h_A, d_A, N * N * sizeof(double),cudaMemcpyDeviceToHost);\n",
        "    cudaMemcpy(h_B, d_B, N * N * sizeof(double),cudaMemcpyDeviceToHost);\n",
        "\n",
        "    // mul on gpu\n",
        "    start = clock();\n",
        "    gpu_blas_mmul(d_A, d_B, d_C, N, N, N);\n",
        "    end = clock();\n",
        "    gpu_time = (end - start) / CLOCKS_PER_SEC;\n",
        "\n",
        "    // cp gpu results to mem\n",
        "    cudaMemcpy(h_C, d_C, N * N * sizeof(double),cudaMemcpyDeviceToHost);\n",
        "\n",
        "    // mul on cpu\n",
        "    start = clock();\n",
        "    cpp_cpu_mmul(h_A, h_B, cpu_C, N);\n",
        "    end = clock();\n",
        "    cpu_time = (end - start) / CLOCKS_PER_SEC;\n",
        "\n",
        "    double diff = differ(h_C, cpu_C, N);\n",
        "\n",
        "    std::cout << \"diff is \" << diff << std::endl;\n",
        "    std::cout << \"N = \" << N << std::endl;\n",
        "    std::cout << \"cpu time (s) = \" << cpu_time << std::endl;\n",
        "    std::cout << \"gpu time (s) = \" << gpu_time << std::endl;\n",
        "\n",
        "    //Free GPU memory\n",
        "    cudaFree(d_A);\n",
        "    cudaFree(d_B);\n",
        "    cudaFree(d_C);\n",
        "\n",
        "    // Free CPU memory\n",
        "    free(h_A);\n",
        "    free(h_B);\n",
        "    free(h_C);\n",
        "\n",
        "    return 0;\n",
        "}"
      ],
      "metadata": {
        "id": "Ezek5Q0ODYwr",
        "colab": {
          "base_uri": "https://localhost:8080/",
          "height": 35
        },
        "outputId": "20d0b05b-6c84-45e4-cab0-15e0de8971df"
      },
      "id": "Ezek5Q0ODYwr",
      "execution_count": 4,
      "outputs": [
        {
          "output_type": "execute_result",
          "data": {
            "text/plain": [
              "'File written in /content/src/matmul.cu'"
            ],
            "application/vnd.google.colaboratory.intrinsic+json": {
              "type": "string"
            }
          },
          "metadata": {},
          "execution_count": 4
        }
      ]
    },
    {
      "cell_type": "code",
      "source": [
        "!nvcc -o /content/src/matmul /content/src/matmul.cu -lcurand -lcublas"
      ],
      "metadata": {
        "id": "HuPmBFhKDY3f"
      },
      "id": "HuPmBFhKDY3f",
      "execution_count": 5,
      "outputs": []
    },
    {
      "cell_type": "code",
      "source": [
        "!/content/src/matmul 200"
      ],
      "metadata": {
        "colab": {
          "base_uri": "https://localhost:8080/"
        },
        "id": "wVk8V4QVILsf",
        "outputId": "4be03fb8-27ac-4d16-b256-54986b0f8bc9"
      },
      "id": "wVk8V4QVILsf",
      "execution_count": 6,
      "outputs": [
        {
          "output_type": "stream",
          "name": "stdout",
          "text": [
            "diff is 6.51923e-10\n",
            "N = 200\n",
            "cpu time (s) = 0.037302\n",
            "gpu time (s) = 0.630733\n"
          ]
        }
      ]
    },
    {
      "cell_type": "code",
      "source": [
        "from matplotlib import pyplot as plt\n",
        "\n",
        "sizes = [100, 300, 500, 800, 1100, 1400, 1700, 2000]\n",
        "ctimes = [0.004792, 0.160246, 0.881748, 4.43985, 12.2533, 27.7016, 77.6709, 119.778]\n",
        "gtimes = [0.601516, 0.608511, 0.598432, 0.617509, 0.623891, 0.666865, 0.704135, 0.773786]\n",
        "accelerations = []\n",
        "for i in range(len(sizes)):\n",
        "    accelerations.append(ctimes[i] / gtimes[i])\n",
        "\n",
        "plt.plot(sizes, ctimes, label='CPU', color='blue')\n",
        "plt.plot(sizes, gtimes, label='GPU', color='orange')\n",
        "plt.grid(True)\n",
        "plt.legend()\n",
        "plt.xlabel(\"Dim NxN\")\n",
        "plt.ylabel(\"t, s\")\n",
        "plt.title('Time')\n",
        "plt.show()\n",
        "\n",
        "plt.plot(sizes, accelerations, color='red')\n",
        "plt.grid(True)\n",
        "plt.xlabel(\"Dim NxN\")\n",
        "plt.title('Acceleration')\n",
        "plt.show()"
      ],
      "metadata": {
        "colab": {
          "base_uri": "https://localhost:8080/",
          "height": 927
        },
        "id": "1cWPMDO2L5xC",
        "outputId": "492199e1-17b5-403d-e32a-7d313085b4c2"
      },
      "id": "1cWPMDO2L5xC",
      "execution_count": 7,
      "outputs": [
        {
          "output_type": "display_data",
          "data": {
            "text/plain": [
              "<Figure size 640x480 with 1 Axes>"
            ],
            "image/png": "[encoded data removed]"
          },
          "metadata": {}
        },
        {
          "output_type": "display_data",
          "data": {
            "text/plain": [
              "<Figure size 640x480 with 1 Axes>"
            ],
            "image/png": "[encoded data removed]"
          },
          "metadata": {}
        }
      ]
    }
  ],
  "metadata": {
    "accelerator": "GPU",
    "colab": {
      "gpuType": "T4",
      "provenance": []
    },
    "kernelspec": {
      "display_name": "Python 3 (ipykernel)",
      "language": "python",
      "name": "python3"
    },
    "language_info": {
      "codemirror_mode": {
        "name": "ipython",
        "version": 3
      },
      "file_extension": ".py",
      "mimetype": "text/x-python",
      "name": "python",
      "nbconvert_exporter": "python",
      "pygments_lexer": "ipython3",
      "version": "3.9.12"
    }
  },
  "nbformat": 4,
  "nbformat_minor": 5
}