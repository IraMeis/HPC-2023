{
  "nbformat": 4,
  "nbformat_minor": 0,
  "metadata": {
    "colab": {
      "provenance": [],
      "gpuType": "T4"
    },
    "kernelspec": {
      "name": "python3",
      "display_name": "Python 3"
    },
    "language_info": {
      "name": "python"
    },
    "accelerator": "GPU"
  },
  "cells": [
    {
      "cell_type": "code",
      "source": [
        "!nvidia-smi"
      ],
      "metadata": {
        "colab": {
          "base_uri": "https://localhost:8080/"
        },
        "id": "jzo-tUiBY9GB",
        "outputId": "e812cd51-8b6f-4f11-f332-87ed4ac5e54b"
      },
      "execution_count": 1,
      "outputs": [
        {
          "output_type": "stream",
          "name": "stdout",
          "text": [
            "Thu Nov  2 07:16:06 2023       \n",
            "+-----------------------------------------------------------------------------+\n",
            "| NVIDIA-SMI 525.105.17   Driver Version: 525.105.17   CUDA Version: 12.0     |\n",
            "|-------------------------------+----------------------+----------------------+\n",
            "| GPU  Name        Persistence-M| Bus-Id        Disp.A | Volatile Uncorr. ECC |\n",
            "| Fan  Temp  Perf  Pwr:Usage/Cap|         Memory-Usage | GPU-Util  Compute M. |\n",
            "|                               |                      |               MIG M. |\n",
            "|===============================+======================+======================|\n",
            "|   0  Tesla T4            Off  | 00000000:00:04.0 Off |                    0 |\n",
            "| N/A   55C    P8    12W /  70W |      0MiB / 15360MiB |      0%      Default |\n",
            "|                               |                      |                  N/A |\n",
            "+-------------------------------+----------------------+----------------------+\n",
            "                                                                               \n",
            "+-----------------------------------------------------------------------------+\n",
            "| Processes:                                                                  |\n",
            "|  GPU   GI   CI        PID   Type   Process name                  GPU Memory |\n",
            "|        ID   ID                                                   Usage      |\n",
            "|=============================================================================|\n",
            "|  No running processes found                                                 |\n",
            "+-----------------------------------------------------------------------------+\n"
          ]
        }
      ]
    },
    {
      "cell_type": "code",
      "source": [
        "!lscpu"
      ],
      "metadata": {
        "colab": {
          "base_uri": "https://localhost:8080/"
        },
        "id": "Tkm-DaCyZCAV",
        "outputId": "457b1bc4-6f41-41ab-9270-e504860c736e"
      },
      "execution_count": 2,
      "outputs": [
        {
          "output_type": "stream",
          "name": "stdout",
          "text": [
            "Architecture:            x86_64\n",
            "  CPU op-mode(s):        32-bit, 64-bit\n",
            "  Address sizes:         46 bits physical, 48 bits virtual\n",
            "  Byte Order:            Little Endian\n",
            "CPU(s):                  2\n",
            "  On-line CPU(s) list:   0,1\n",
            "Vendor ID:               GenuineIntel\n",
            "  Model name:            Intel(R) Xeon(R) CPU @ 2.00GHz\n",
            "    CPU family:          6\n",
            "    Model:               85\n",
            "    Thread(s) per core:  2\n",
            "    Core(s) per socket:  1\n",
            "    Socket(s):           1\n",
            "    Stepping:            3\n",
            "    BogoMIPS:            4000.29\n",
            "    Flags:               fpu vme de pse tsc msr pae mce cx8 apic sep mtrr pge mca cmov pat pse36 clf\n",
            "                         lush mmx fxsr sse sse2 ss ht syscall nx pdpe1gb rdtscp lm constant_tsc rep_\n",
            "                         good nopl xtopology nonstop_tsc cpuid tsc_known_freq pni pclmulqdq ssse3 fm\n",
            "                         a cx16 pcid sse4_1 sse4_2 x2apic movbe popcnt aes xsave avx f16c rdrand hyp\n",
            "                         ervisor lahf_lm abm 3dnowprefetch invpcid_single ssbd ibrs ibpb stibp fsgsb\n",
            "                         ase tsc_adjust bmi1 hle avx2 smep bmi2 erms invpcid rtm mpx avx512f avx512d\n",
            "                         q rdseed adx smap clflushopt clwb avx512cd avx512bw avx512vl xsaveopt xsave\n",
            "                         c xgetbv1 xsaves arat md_clear arch_capabilities\n",
            "Virtualization features: \n",
            "  Hypervisor vendor:     KVM\n",
            "  Virtualization type:   full\n",
            "Caches (sum of all):     \n",
            "  L1d:                   32 KiB (1 instance)\n",
            "  L1i:                   32 KiB (1 instance)\n",
            "  L2:                    1 MiB (1 instance)\n",
            "  L3:                    38.5 MiB (1 instance)\n",
            "NUMA:                    \n",
            "  NUMA node(s):          1\n",
            "  NUMA node0 CPU(s):     0,1\n",
            "Vulnerabilities:         \n",
            "  Itlb multihit:         Not affected\n",
            "  L1tf:                  Mitigation; PTE Inversion\n",
            "  Mds:                   Vulnerable; SMT Host state unknown\n",
            "  Meltdown:              Vulnerable\n",
            "  Mmio stale data:       Vulnerable\n",
            "  Retbleed:              Vulnerable\n",
            "  Spec store bypass:     Vulnerable\n",
            "  Spectre v1:            Vulnerable: __user pointer sanitization and usercopy barriers only; no swap\n",
            "                         gs barriers\n",
            "  Spectre v2:            Vulnerable, IBPB: disabled, STIBP: disabled, PBRSB-eIBRS: Not affected\n",
            "  Srbds:                 Not affected\n",
            "  Tsx async abort:       Vulnerable\n"
          ]
        }
      ]
    },
    {
      "cell_type": "code",
      "source": [
        "import cv2\n",
        "from google.colab.patches import cv2_imshow\n",
        "import numpy as np\n",
        "from numba import cuda, jit\n",
        "import math\n",
        "import time\n",
        "\n",
        "\n",
        "def cpu_bilateral(img, buffer):\n",
        "    result = np.zeros_like(img)\n",
        "    for x in range(img.shape[0]):\n",
        "        for y in range(img.shape[1]):\n",
        "            sum = 0.\n",
        "            weighted_sum = 0.\n",
        "            for i in range(x - buffer[1], x + buffer[1] + 1):\n",
        "                for j in range(y - buffer[1], y + buffer[1] + 1):\n",
        "                     if i >= 0 and i < img.shape[0] and j >= 0 and j < img.shape[1]:\n",
        "                        diff = int(img[x, y]) - int(img[i, j])\n",
        "                        weight = np.exp(-(diff**2) / (2 * buffer[0] ** 2))\n",
        "                        sum += weight * img[i, j]\n",
        "                        weighted_sum += weight\n",
        "            result[x, y] = sum / weighted_sum if weighted_sum != 0 else img[x, y]\n",
        "    return result\n",
        "\n",
        "\n",
        "@cuda.jit\n",
        "def kern(img, result, buffer):\n",
        "    idx, jdx = cuda.grid(2)\n",
        "    if idx < img.shape[0] and jdx < img.shape[1]:\n",
        "        x = idx\n",
        "        y = jdx\n",
        "        sum = 0.\n",
        "        weighted_sum = 0.\n",
        "        for i in range(x - buffer[1], x + buffer[1] + 1):\n",
        "            for j in range(y - buffer[1], y + buffer[1] + 1):\n",
        "                if i >= 0 and i < img.shape[0] and j >= 0 and j < img.shape[1]:\n",
        "                    diff = img[x, y] - img[i, j]\n",
        "                    weight = math.exp(-((diff ** 2) / (2 * buffer[0] ** 2)))\n",
        "                    sum += weight * img[i, j]\n",
        "                    weighted_sum += weight\n",
        "        result[x, y] = sum / weighted_sum if weighted_sum != 0 else img[x, y]\n",
        "\n",
        "\n",
        "def gpu_bilateral(img, buffer):\n",
        "    threads_per_block = (16,16)\n",
        "    blocks_per_grid = (math.ceil(img.shape[0]/threads_per_block[0]), math.ceil(img.shape[1]/threads_per_block[1]))\n",
        "\n",
        "    startp = cuda.event()\n",
        "    endp = cuda.event()\n",
        "    startp.record()\n",
        "\n",
        "    img_dev = cuda.to_device(img)\n",
        "    result_dev = cuda.to_device(np.zeros_like(img, dtype=np.float32))\n",
        "    buffer_dev = cuda.to_device(np.array(buffer, dtype=np.float32))\n",
        "\n",
        "    kern[blocks_per_grid, threads_per_block](img_dev, result_dev, buffer_dev)\n",
        "    endp.record()\n",
        "    endp.synchronize()\n",
        "    elapsedp = cuda.event_elapsed_time(startp, endp)\n",
        "    return result_dev.copy_to_host(), elapsedp / 1000\n"
      ],
      "metadata": {
        "id": "ph_WR1rE8l3k"
      },
      "execution_count": 3,
      "outputs": []
    },
    {
      "cell_type": "code",
      "source": [
        "!wget https://github.com/IraMeis/HPC-2023/raw/main/lr3/cat_1000.bmp \\\n",
        "https://github.com/IraMeis/HPC-2023/raw/main/lr3/cat_224.png \\\n",
        "https://github.com/IraMeis/HPC-2023/raw/main/lr3/cat_512.png"
      ],
      "metadata": {
        "id": "uQfjRJNZSddo"
      },
      "execution_count": null,
      "outputs": []
    },
    {
      "cell_type": "code",
      "source": [
        "imgs = [cv2.imread(f'/content/{im}', cv2.IMREAD_GRAYSCALE) for im in ['cat_224.png', 'cat_512.png', 'cat_1000.bmp']]"
      ],
      "metadata": {
        "id": "YRyMmkOl5xry"
      },
      "execution_count": 17,
      "outputs": []
    },
    {
      "cell_type": "code",
      "source": [
        "img = imgs[0]\n",
        "cv2_imshow(img)"
      ],
      "metadata": {
        "colab": {
          "base_uri": "https://localhost:8080/",
          "height": 241
        },
        "id": "7Y86JkT68t3D",
        "outputId": "25d0fc64-8906-458a-c79c-8a8b9769d716"
      },
      "execution_count": 18,
      "outputs": [
        {
          "output_type": "display_data",
          "data": {
            "text/plain": [
              "<PIL.Image.Image image mode=L size=224x224>"
            ],
            "image/png": "[encoded data removed]"
          },
          "metadata": {}
        }
      ]
    },
    {
      "cell_type": "code",
      "source": [
        "blur = 100\n",
        "d = 5\n",
        "buff = [blur, d]\n",
        "\n",
        "start = time.time()\n",
        "result_cpu = np.array(cpu_bilateral(img, buff))\n",
        "result_time_cpu = time.time() - start\n",
        "\n",
        "print(\"\\nCPU:\\n\")\n",
        "cv2_imshow(result_cpu)\n",
        "\n",
        "result_gpu, result_time_gpu  = np.array(gpu_bilateral(img, buff))\n",
        "\n",
        "print(\"\\nGPU:\\n\")\n",
        "cv2_imshow(result_gpu)\n",
        "\n",
        "print(\"\\nCPU: \", result_time_cpu)\n",
        "print(\"GPU: \", result_time_gpu)\n",
        "print(\"Acceleration: \", result_time_cpu / result_time_gpu)"
      ],
      "metadata": {
        "colab": {
          "base_uri": "https://localhost:8080/",
          "height": 693
        },
        "id": "ylctRMTY8qco",
        "outputId": "d0925f40-2753-4b90-8be7-12bc1930538a"
      },
      "execution_count": 19,
      "outputs": [
        {
          "output_type": "stream",
          "name": "stdout",
          "text": [
            "\n",
            "CPU:\n",
            "\n"
          ]
        },
        {
          "output_type": "display_data",
          "data": {
            "text/plain": [
              "<PIL.Image.Image image mode=L size=224x224>"
            ],
            "image/png": "[encoded data removed]"
          },
          "metadata": {}
        },
        {
          "output_type": "stream",
          "name": "stdout",
          "text": [
            "\n",
            "GPU:\n",
            "\n"
          ]
        },
        {
          "output_type": "stream",
          "name": "stderr",
          "text": [
            "<ipython-input-19-f679f2f81fcf>:12: VisibleDeprecationWarning: Creating an ndarray from ragged nested sequences (which is a list-or-tuple of lists-or-tuples-or ndarrays with different lengths or shapes) is deprecated. If you meant to do this, you must specify 'dtype=object' when creating the ndarray.\n",
            "  result_gpu, result_time_gpu  = np.array(gpu_bilateral(img, buff))\n"
          ]
        },
        {
          "output_type": "display_data",
          "data": {
            "text/plain": [
              "<PIL.Image.Image image mode=L size=224x224>"
            ],
            "image/png": "[encoded data removed]"
          },
          "metadata": {}
        },
        {
          "output_type": "stream",
          "name": "stdout",
          "text": [
            "\n",
            "CPU:  17.249826192855835\n",
            "GPU:  0.009690367698669433\n",
            "Acceleration:  1780.1002737207152\n"
          ]
        }
      ]
    }
  ]
}